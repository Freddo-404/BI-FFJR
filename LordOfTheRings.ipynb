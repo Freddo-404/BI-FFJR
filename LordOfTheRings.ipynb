{
 "cells": [
  {
   "cell_type": "code",
   "execution_count": 13,
   "metadata": {},
   "outputs": [
    {
     "name": "stdout",
     "output_type": "stream",
     "text": [
      "Loaded CSV with 555 rows and 10 columns.\n"
     ]
    }
   ],
   "source": [
    "import pandas as pd\n",
    "\n",
    "def load_csv_data(filepath):\n",
    "    try:\n",
    "        df = pd.read_csv(filepath)\n",
    "        print(f\"Loaded CSV with {df.shape[0]} rows and {df.shape[1]} columns.\")\n",
    "        return df\n",
    "    except Exception as e:\n",
    "        print(f\"Error loading CSV: {e}\")\n",
    "        return None\n",
    "\n",
    "# Example usage\n",
    "lotr_df = load_csv_data(\"data/lotr.csv\")\n"
   ]
  },
  {
   "cell_type": "markdown",
   "metadata": {},
   "source": [
    "Cleaning up"
   ]
  },
  {
   "cell_type": "code",
   "execution_count": 14,
   "metadata": {},
   "outputs": [],
   "source": [
    "def explore_and_clean_data(df):\n",
    "    print(\"First 5 rows:\\n\", df.head())\n",
    "    print(\"\\nMissing values:\\n\", df.isnull().sum())\n",
    "    \n",
    "    # Drop rows or fill NA if needed (example)\n",
    "    df_clean = df.dropna()  # or df.fillna(method=\"ffill\")\n",
    "    \n",
    "    # Remove duplicates\n",
    "    df_clean = df_clean.drop_duplicates()\n",
    "\n",
    "    return df_clean\n"
   ]
  },
  {
   "cell_type": "markdown",
   "metadata": {},
   "source": [
    "Anonymise code"
   ]
  },
  {
   "cell_type": "code",
   "execution_count": 15,
   "metadata": {},
   "outputs": [],
   "source": [
    "def anonymise_data(df, column_name):\n",
    "    if column_name in df.columns:\n",
    "        df[column_name] = df[column_name].apply(lambda x: \"Anon_\" + str(hash(x))[-4:])\n",
    "    return df\n"
   ]
  },
  {
   "cell_type": "markdown",
   "metadata": {},
   "source": [
    "Use matplotlib, seaborn, or plotly."
   ]
  },
  {
   "cell_type": "code",
   "execution_count": 17,
   "metadata": {},
   "outputs": [],
   "source": [
    "import seaborn as sns\n",
    "import matplotlib.pyplot as plt\n",
    "\n",
    "def plot_data(df, column):\n",
    "    if column in df.columns:\n",
    "        plt.figure(figsize=(10,6))\n",
    "        sns.countplot(data=df, x=column)\n",
    "        plt.xticks(rotation=45)\n",
    "        plt.title(f\"Distribution of {column}\")\n",
    "        plt.tight_layout()\n",
    "        plt.show()\n"
   ]
  }
 ],
 "metadata": {
  "kernelspec": {
   "display_name": "base",
   "language": "python",
   "name": "python3"
  },
  "language_info": {
   "codemirror_mode": {
    "name": "ipython",
    "version": 3
   },
   "file_extension": ".py",
   "mimetype": "text/x-python",
   "name": "python",
   "nbconvert_exporter": "python",
   "pygments_lexer": "ipython3",
   "version": "3.12.7"
  }
 },
 "nbformat": 4,
 "nbformat_minor": 2
}
