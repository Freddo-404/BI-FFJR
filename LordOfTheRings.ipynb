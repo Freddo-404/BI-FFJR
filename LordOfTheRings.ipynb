{
 "cells": [
  {
   "cell_type": "code",
   "execution_count": null,
   "metadata": {},
   "outputs": [
    {
     "name": "stdout",
     "output_type": "stream",
     "text": [
      "Loaded CSV with 555 rows and 10 columns.\n"
     ]
    }
   ],
   "source": [
    "import pandas as pd\n",
    "import seaborn as sns\n",
    "import matplotlib.pyplot as plt\n"
   ]
  },
  {
   "cell_type": "markdown",
   "metadata": {},
   "source": [
    "Load CSV"
   ]
  },
  {
   "cell_type": "code",
   "execution_count": 18,
   "metadata": {},
   "outputs": [
    {
     "name": "stdout",
     "output_type": "stream",
     "text": [
      "Error loading CSV: [Errno 2] No such file or directory: 'lotr.csv'\n"
     ]
    }
   ],
   "source": [
    "# Function to load CSV data\n",
    "def load_csv_data(filepath):\n",
    "    try:\n",
    "        df = pd.read_csv(filepath)\n",
    "        print(f\"Loaded CSV with {df.shape[0]} rows and {df.shape[1]} columns.\")\n",
    "        return df\n",
    "    except Exception as e:\n",
    "        print(f\"Error loading CSV: {e}\")\n",
    "        return None\n",
    "\n",
    "# Load the data\n",
    "file_path = \"lotr.csv\"  # Make sure lotr.csv is in the same directory or provide full path\n",
    "lotr_df = load_csv_data(file_path)\n"
   ]
  },
  {
   "cell_type": "markdown",
   "metadata": {},
   "source": [
    "Explore and clean the data"
   ]
  },
  {
   "cell_type": "code",
   "execution_count": null,
   "metadata": {},
   "outputs": [],
   "source": [
    "# Function to explore and clean the data\n",
    "def explore_and_clean_data(df):\n",
    "    print(\"First 5 rows of the dataset:\")\n",
    "    print(df.head(), \"\\n\")\n",
    "    \n",
    "    print(\"Missing values per column:\")\n",
    "    print(df.isnull().sum(), \"\\n\")\n",
    "    \n",
    "    print(\"Data types:\")\n",
    "    print(df.dtypes, \"\\n\")\n",
    "    \n",
    "    # Clean data\n",
    "    df_clean = df.dropna()\n",
    "    df_clean = df_clean.drop_duplicates()\n",
    "    \n",
    "    return df_clean\n",
    "\n",
    "# Clean and display summary\n",
    "lotr_clean_df = explore_and_clean_data(lotr_df)\n"
   ]
  },
  {
   "cell_type": "markdown",
   "metadata": {},
   "source": [
    "Visualize collum"
   ]
  },
  {
   "cell_type": "code",
   "execution_count": null,
   "metadata": {},
   "outputs": [],
   "source": [
    "# Function to plot a specific column\n",
    "def plot_data(df, column):\n",
    "    if column in df.columns:\n",
    "        plt.figure(figsize=(10,6))\n",
    "        sns.countplot(data=df, x=column)\n",
    "        plt.xticks(rotation=45)\n",
    "        plt.title(f\"Distribution of {column}\")\n",
    "        plt.tight_layout()\n",
    "        plt.show()\n",
    "    else:\n",
    "        print(f\"Column '{column}' not found in the DataFrame.\")\n",
    "\n",
    "# Example: replace 'Character' with any relevant column in your data\n",
    "# plot_data(lotr_clean_df, \"Character\")\n"
   ]
  }
 ],
 "metadata": {
  "kernelspec": {
   "display_name": "base",
   "language": "python",
   "name": "python3"
  },
  "language_info": {
   "codemirror_mode": {
    "name": "ipython",
    "version": 3
   },
   "file_extension": ".py",
   "mimetype": "text/x-python",
   "name": "python",
   "nbconvert_exporter": "python",
   "pygments_lexer": "ipython3",
   "version": "3.12.7"
  }
 },
 "nbformat": 4,
 "nbformat_minor": 2
}
