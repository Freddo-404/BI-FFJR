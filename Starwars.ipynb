{
 "cells": [
  {
   "cell_type": "markdown",
   "id": "eaafe057",
   "metadata": {},
   "source": [
    "\n",
    "After working with the data from starwars it has become clear, that you can't really do anything exciting with the data since all the valuable data from the characters in the film are API Endpoints, so the data is kind of restricted"
   ]
  },
  {
   "cell_type": "code",
   "execution_count": 209,
   "id": "72d6ce9d",
   "metadata": {},
   "outputs": [],
   "source": [
    "# import pandas for structuring the data\n",
    "import pandas as pd\n",
    "\n",
    "# import numpy for numerical analysis\n",
    "import numpy as np\n",
    "\n",
    "# import matplotlib for diagrams inline with the text\n",
    "import matplotlib.pyplot as plt\n",
    "%matplotlib inline\n",
    "\n",
    "from pandas import json_normalize\n",
    "\n",
    "\n",
    "import json"
   ]
  },
  {
   "cell_type": "code",
   "execution_count": 210,
   "id": "8da42ca4",
   "metadata": {},
   "outputs": [],
   "source": [
    "# Load JSON data from file\n",
    "with open('data/starwarsData.json') as f:\n",
    "    data = json.load(f)\n",
    "\n",
    "# Normalize the 'people' section to create a table of people data\n",
    "#people_df = json_normalize(data['people'])\n",
    "people_df = pd.DataFrame(data['people'])"
   ]
  },
  {
   "cell_type": "code",
   "execution_count": 211,
   "id": "50a0ab18",
   "metadata": {},
   "outputs": [
    {
     "data": {
      "text/plain": [
       "Index(['name', 'height', 'mass', 'hair_color', 'skin_color', 'eye_color',\n",
       "       'birth_year', 'gender', 'homeworld', 'films', 'species', 'vehicles',\n",
       "       'starships', 'created', 'edited', 'url', 'desc'],\n",
       "      dtype='object')"
      ]
     },
     "execution_count": 211,
     "metadata": {},
     "output_type": "execute_result"
    }
   ],
   "source": [
    "people_df.columns"
   ]
  },
  {
   "cell_type": "code",
   "execution_count": 212,
   "id": "168a101d",
   "metadata": {},
   "outputs": [
    {
     "data": {
      "text/html": [
       "<div>\n",
       "<style scoped>\n",
       "    .dataframe tbody tr th:only-of-type {\n",
       "        vertical-align: middle;\n",
       "    }\n",
       "\n",
       "    .dataframe tbody tr th {\n",
       "        vertical-align: top;\n",
       "    }\n",
       "\n",
       "    .dataframe thead th {\n",
       "        text-align: right;\n",
       "    }\n",
       "</style>\n",
       "<table border=\"1\" class=\"dataframe\">\n",
       "  <thead>\n",
       "    <tr style=\"text-align: right;\">\n",
       "      <th></th>\n",
       "      <th>name</th>\n",
       "      <th>height</th>\n",
       "      <th>mass</th>\n",
       "      <th>hair_color</th>\n",
       "      <th>skin_color</th>\n",
       "      <th>eye_color</th>\n",
       "      <th>birth_year</th>\n",
       "      <th>gender</th>\n",
       "      <th>homeworld</th>\n",
       "      <th>films</th>\n",
       "      <th>species</th>\n",
       "      <th>vehicles</th>\n",
       "      <th>starships</th>\n",
       "      <th>created</th>\n",
       "      <th>edited</th>\n",
       "      <th>url</th>\n",
       "      <th>desc</th>\n",
       "    </tr>\n",
       "  </thead>\n",
       "  <tbody>\n",
       "    <tr>\n",
       "      <th>0</th>\n",
       "      <td>Luke Skywalker</td>\n",
       "      <td>172</td>\n",
       "      <td>77</td>\n",
       "      <td>blond</td>\n",
       "      <td>fair</td>\n",
       "      <td>blue</td>\n",
       "      <td>19BBY</td>\n",
       "      <td>male</td>\n",
       "      <td>http://swapi.co/api/planets/1/</td>\n",
       "      <td>[http://swapi.co/api/films/6/, http://swapi.co...</td>\n",
       "      <td>[http://swapi.co/api/species/1/]</td>\n",
       "      <td>[http://swapi.co/api/vehicles/14/, http://swap...</td>\n",
       "      <td>[http://swapi.co/api/starships/12/, http://swa...</td>\n",
       "      <td>2014-12-09T13:50:51.644000Z</td>\n",
       "      <td>2014-12-20T21:17:56.891000Z</td>\n",
       "      <td>http://swapi.co/api/people/1/</td>\n",
       "      <td>[Luke Skywalker is a fictional character and t...</td>\n",
       "    </tr>\n",
       "    <tr>\n",
       "      <th>1</th>\n",
       "      <td>C-3PO</td>\n",
       "      <td>167</td>\n",
       "      <td>75</td>\n",
       "      <td>n/a</td>\n",
       "      <td>gold</td>\n",
       "      <td>yellow</td>\n",
       "      <td>112BBY</td>\n",
       "      <td>n/a</td>\n",
       "      <td>http://swapi.co/api/planets/1/</td>\n",
       "      <td>[http://swapi.co/api/films/5/, http://swapi.co...</td>\n",
       "      <td>[http://swapi.co/api/species/2/]</td>\n",
       "      <td>[]</td>\n",
       "      <td>[]</td>\n",
       "      <td>2014-12-10T15:10:51.357000Z</td>\n",
       "      <td>2014-12-20T21:17:50.309000Z</td>\n",
       "      <td>http://swapi.co/api/people/2/</td>\n",
       "      <td>[C-3PO (/siːˈθriːpi.oʊ/) or See-Threepio is a ...</td>\n",
       "    </tr>\n",
       "    <tr>\n",
       "      <th>2</th>\n",
       "      <td>R2-D2</td>\n",
       "      <td>96</td>\n",
       "      <td>32</td>\n",
       "      <td>n/a</td>\n",
       "      <td>white, blue</td>\n",
       "      <td>red</td>\n",
       "      <td>33BBY</td>\n",
       "      <td>n/a</td>\n",
       "      <td>http://swapi.co/api/planets/8/</td>\n",
       "      <td>[http://swapi.co/api/films/5/, http://swapi.co...</td>\n",
       "      <td>[http://swapi.co/api/species/2/]</td>\n",
       "      <td>[]</td>\n",
       "      <td>[]</td>\n",
       "      <td>2014-12-10T15:11:50.376000Z</td>\n",
       "      <td>2014-12-20T21:17:50.311000Z</td>\n",
       "      <td>http://swapi.co/api/people/3/</td>\n",
       "      <td>[R2-D2 is a fictional robot character in the S...</td>\n",
       "    </tr>\n",
       "    <tr>\n",
       "      <th>3</th>\n",
       "      <td>Darth Vader</td>\n",
       "      <td>202</td>\n",
       "      <td>136</td>\n",
       "      <td>none</td>\n",
       "      <td>white</td>\n",
       "      <td>yellow</td>\n",
       "      <td>41.9BBY</td>\n",
       "      <td>male</td>\n",
       "      <td>http://swapi.co/api/planets/1/</td>\n",
       "      <td>[http://swapi.co/api/films/6/, http://swapi.co...</td>\n",
       "      <td>[http://swapi.co/api/species/1/]</td>\n",
       "      <td>[]</td>\n",
       "      <td>[http://swapi.co/api/starships/13/]</td>\n",
       "      <td>2014-12-10T15:18:20.704000Z</td>\n",
       "      <td>2014-12-20T21:17:50.313000Z</td>\n",
       "      <td>http://swapi.co/api/people/4/</td>\n",
       "      <td>[Darth Vader, also known by his birth name Ana...</td>\n",
       "    </tr>\n",
       "    <tr>\n",
       "      <th>4</th>\n",
       "      <td>Leia Organa</td>\n",
       "      <td>150</td>\n",
       "      <td>49</td>\n",
       "      <td>brown</td>\n",
       "      <td>light</td>\n",
       "      <td>brown</td>\n",
       "      <td>19BBY</td>\n",
       "      <td>female</td>\n",
       "      <td>http://swapi.co/api/planets/2/</td>\n",
       "      <td>[http://swapi.co/api/films/6/, http://swapi.co...</td>\n",
       "      <td>[http://swapi.co/api/species/1/]</td>\n",
       "      <td>[http://swapi.co/api/vehicles/30/]</td>\n",
       "      <td>[]</td>\n",
       "      <td>2014-12-10T15:20:09.791000Z</td>\n",
       "      <td>2014-12-20T21:17:50.315000Z</td>\n",
       "      <td>http://swapi.co/api/people/5/</td>\n",
       "      <td>[Princess Leia Organa of Alderaan (also Senato...</td>\n",
       "    </tr>\n",
       "  </tbody>\n",
       "</table>\n",
       "</div>"
      ],
      "text/plain": [
       "             name height mass hair_color   skin_color eye_color birth_year  \\\n",
       "0  Luke Skywalker    172   77      blond         fair      blue      19BBY   \n",
       "1           C-3PO    167   75        n/a         gold    yellow     112BBY   \n",
       "2           R2-D2     96   32        n/a  white, blue       red      33BBY   \n",
       "3     Darth Vader    202  136       none        white    yellow    41.9BBY   \n",
       "4     Leia Organa    150   49      brown        light     brown      19BBY   \n",
       "\n",
       "   gender                       homeworld  \\\n",
       "0    male  http://swapi.co/api/planets/1/   \n",
       "1     n/a  http://swapi.co/api/planets/1/   \n",
       "2     n/a  http://swapi.co/api/planets/8/   \n",
       "3    male  http://swapi.co/api/planets/1/   \n",
       "4  female  http://swapi.co/api/planets/2/   \n",
       "\n",
       "                                               films  \\\n",
       "0  [http://swapi.co/api/films/6/, http://swapi.co...   \n",
       "1  [http://swapi.co/api/films/5/, http://swapi.co...   \n",
       "2  [http://swapi.co/api/films/5/, http://swapi.co...   \n",
       "3  [http://swapi.co/api/films/6/, http://swapi.co...   \n",
       "4  [http://swapi.co/api/films/6/, http://swapi.co...   \n",
       "\n",
       "                            species  \\\n",
       "0  [http://swapi.co/api/species/1/]   \n",
       "1  [http://swapi.co/api/species/2/]   \n",
       "2  [http://swapi.co/api/species/2/]   \n",
       "3  [http://swapi.co/api/species/1/]   \n",
       "4  [http://swapi.co/api/species/1/]   \n",
       "\n",
       "                                            vehicles  \\\n",
       "0  [http://swapi.co/api/vehicles/14/, http://swap...   \n",
       "1                                                 []   \n",
       "2                                                 []   \n",
       "3                                                 []   \n",
       "4                 [http://swapi.co/api/vehicles/30/]   \n",
       "\n",
       "                                           starships  \\\n",
       "0  [http://swapi.co/api/starships/12/, http://swa...   \n",
       "1                                                 []   \n",
       "2                                                 []   \n",
       "3                [http://swapi.co/api/starships/13/]   \n",
       "4                                                 []   \n",
       "\n",
       "                       created                       edited  \\\n",
       "0  2014-12-09T13:50:51.644000Z  2014-12-20T21:17:56.891000Z   \n",
       "1  2014-12-10T15:10:51.357000Z  2014-12-20T21:17:50.309000Z   \n",
       "2  2014-12-10T15:11:50.376000Z  2014-12-20T21:17:50.311000Z   \n",
       "3  2014-12-10T15:18:20.704000Z  2014-12-20T21:17:50.313000Z   \n",
       "4  2014-12-10T15:20:09.791000Z  2014-12-20T21:17:50.315000Z   \n",
       "\n",
       "                             url  \\\n",
       "0  http://swapi.co/api/people/1/   \n",
       "1  http://swapi.co/api/people/2/   \n",
       "2  http://swapi.co/api/people/3/   \n",
       "3  http://swapi.co/api/people/4/   \n",
       "4  http://swapi.co/api/people/5/   \n",
       "\n",
       "                                                desc  \n",
       "0  [Luke Skywalker is a fictional character and t...  \n",
       "1  [C-3PO (/siːˈθriːpi.oʊ/) or See-Threepio is a ...  \n",
       "2  [R2-D2 is a fictional robot character in the S...  \n",
       "3  [Darth Vader, also known by his birth name Ana...  \n",
       "4  [Princess Leia Organa of Alderaan (also Senato...  "
      ]
     },
     "execution_count": 212,
     "metadata": {},
     "output_type": "execute_result"
    }
   ],
   "source": [
    "people_df.head(5)"
   ]
  },
  {
   "cell_type": "markdown",
   "id": "55aa1a9b",
   "metadata": {},
   "source": [
    "In the following code I'm looking to se what my data type are"
   ]
  },
  {
   "cell_type": "code",
   "execution_count": 213,
   "id": "7b102117",
   "metadata": {},
   "outputs": [
    {
     "data": {
      "text/plain": [
       "name          object\n",
       "height        object\n",
       "mass          object\n",
       "hair_color    object\n",
       "skin_color    object\n",
       "eye_color     object\n",
       "birth_year    object\n",
       "gender        object\n",
       "homeworld     object\n",
       "films         object\n",
       "species       object\n",
       "vehicles      object\n",
       "starships     object\n",
       "created       object\n",
       "edited        object\n",
       "url           object\n",
       "desc          object\n",
       "dtype: object"
      ]
     },
     "execution_count": 213,
     "metadata": {},
     "output_type": "execute_result"
    }
   ],
   "source": [
    "people_df.dtypes"
   ]
  },
  {
   "cell_type": "markdown",
   "id": "d4893793",
   "metadata": {},
   "source": [
    "Since my data type is object, I will clean it up a bit to make "
   ]
  },
  {
   "cell_type": "code",
   "execution_count": 214,
   "id": "97a5698f",
   "metadata": {},
   "outputs": [],
   "source": [
    "people_df['height'] = pd.to_numeric(people_df['height'], errors='coerce')\n",
    "people_df['mass'] = pd.to_numeric(people_df['mass'], errors='coerce')\n",
    "people_df['birth_year'] = people_df['birth_year'].str.replace('BBY', '').astype(str)"
   ]
  },
  {
   "cell_type": "code",
   "execution_count": 215,
   "id": "2935e0b8",
   "metadata": {},
   "outputs": [
    {
     "data": {
      "text/plain": [
       "name           object\n",
       "height        float64\n",
       "mass          float64\n",
       "hair_color     object\n",
       "skin_color     object\n",
       "eye_color      object\n",
       "birth_year     object\n",
       "gender         object\n",
       "homeworld      object\n",
       "films          object\n",
       "species        object\n",
       "vehicles       object\n",
       "starships      object\n",
       "created        object\n",
       "edited         object\n",
       "url            object\n",
       "desc           object\n",
       "dtype: object"
      ]
     },
     "execution_count": 215,
     "metadata": {},
     "output_type": "execute_result"
    }
   ],
   "source": [
    "people_df.dtypes"
   ]
  },
  {
   "cell_type": "code",
   "execution_count": 216,
   "id": "b13c2530",
   "metadata": {},
   "outputs": [
    {
     "data": {
      "text/html": [
       "<div>\n",
       "<style scoped>\n",
       "    .dataframe tbody tr th:only-of-type {\n",
       "        vertical-align: middle;\n",
       "    }\n",
       "\n",
       "    .dataframe tbody tr th {\n",
       "        vertical-align: top;\n",
       "    }\n",
       "\n",
       "    .dataframe thead th {\n",
       "        text-align: right;\n",
       "    }\n",
       "</style>\n",
       "<table border=\"1\" class=\"dataframe\">\n",
       "  <thead>\n",
       "    <tr style=\"text-align: right;\">\n",
       "      <th></th>\n",
       "      <th>name</th>\n",
       "      <th>height</th>\n",
       "      <th>mass</th>\n",
       "      <th>hair_color</th>\n",
       "      <th>skin_color</th>\n",
       "      <th>eye_color</th>\n",
       "      <th>birth_year</th>\n",
       "      <th>gender</th>\n",
       "      <th>homeworld</th>\n",
       "      <th>films</th>\n",
       "      <th>species</th>\n",
       "      <th>vehicles</th>\n",
       "      <th>starships</th>\n",
       "      <th>created</th>\n",
       "      <th>edited</th>\n",
       "      <th>url</th>\n",
       "      <th>desc</th>\n",
       "    </tr>\n",
       "  </thead>\n",
       "  <tbody>\n",
       "    <tr>\n",
       "      <th>0</th>\n",
       "      <td>Luke Skywalker</td>\n",
       "      <td>172.0</td>\n",
       "      <td>77.0</td>\n",
       "      <td>blond</td>\n",
       "      <td>fair</td>\n",
       "      <td>blue</td>\n",
       "      <td>19</td>\n",
       "      <td>male</td>\n",
       "      <td>http://swapi.co/api/planets/1/</td>\n",
       "      <td>[http://swapi.co/api/films/6/, http://swapi.co...</td>\n",
       "      <td>[http://swapi.co/api/species/1/]</td>\n",
       "      <td>[http://swapi.co/api/vehicles/14/, http://swap...</td>\n",
       "      <td>[http://swapi.co/api/starships/12/, http://swa...</td>\n",
       "      <td>2014-12-09T13:50:51.644000Z</td>\n",
       "      <td>2014-12-20T21:17:56.891000Z</td>\n",
       "      <td>http://swapi.co/api/people/1/</td>\n",
       "      <td>[Luke Skywalker is a fictional character and t...</td>\n",
       "    </tr>\n",
       "    <tr>\n",
       "      <th>1</th>\n",
       "      <td>C-3PO</td>\n",
       "      <td>167.0</td>\n",
       "      <td>75.0</td>\n",
       "      <td>n/a</td>\n",
       "      <td>gold</td>\n",
       "      <td>yellow</td>\n",
       "      <td>112</td>\n",
       "      <td>n/a</td>\n",
       "      <td>http://swapi.co/api/planets/1/</td>\n",
       "      <td>[http://swapi.co/api/films/5/, http://swapi.co...</td>\n",
       "      <td>[http://swapi.co/api/species/2/]</td>\n",
       "      <td>[]</td>\n",
       "      <td>[]</td>\n",
       "      <td>2014-12-10T15:10:51.357000Z</td>\n",
       "      <td>2014-12-20T21:17:50.309000Z</td>\n",
       "      <td>http://swapi.co/api/people/2/</td>\n",
       "      <td>[C-3PO (/siːˈθriːpi.oʊ/) or See-Threepio is a ...</td>\n",
       "    </tr>\n",
       "    <tr>\n",
       "      <th>2</th>\n",
       "      <td>R2-D2</td>\n",
       "      <td>96.0</td>\n",
       "      <td>32.0</td>\n",
       "      <td>n/a</td>\n",
       "      <td>white, blue</td>\n",
       "      <td>red</td>\n",
       "      <td>33</td>\n",
       "      <td>n/a</td>\n",
       "      <td>http://swapi.co/api/planets/8/</td>\n",
       "      <td>[http://swapi.co/api/films/5/, http://swapi.co...</td>\n",
       "      <td>[http://swapi.co/api/species/2/]</td>\n",
       "      <td>[]</td>\n",
       "      <td>[]</td>\n",
       "      <td>2014-12-10T15:11:50.376000Z</td>\n",
       "      <td>2014-12-20T21:17:50.311000Z</td>\n",
       "      <td>http://swapi.co/api/people/3/</td>\n",
       "      <td>[R2-D2 is a fictional robot character in the S...</td>\n",
       "    </tr>\n",
       "    <tr>\n",
       "      <th>3</th>\n",
       "      <td>Darth Vader</td>\n",
       "      <td>202.0</td>\n",
       "      <td>136.0</td>\n",
       "      <td>none</td>\n",
       "      <td>white</td>\n",
       "      <td>yellow</td>\n",
       "      <td>41.9</td>\n",
       "      <td>male</td>\n",
       "      <td>http://swapi.co/api/planets/1/</td>\n",
       "      <td>[http://swapi.co/api/films/6/, http://swapi.co...</td>\n",
       "      <td>[http://swapi.co/api/species/1/]</td>\n",
       "      <td>[]</td>\n",
       "      <td>[http://swapi.co/api/starships/13/]</td>\n",
       "      <td>2014-12-10T15:18:20.704000Z</td>\n",
       "      <td>2014-12-20T21:17:50.313000Z</td>\n",
       "      <td>http://swapi.co/api/people/4/</td>\n",
       "      <td>[Darth Vader, also known by his birth name Ana...</td>\n",
       "    </tr>\n",
       "    <tr>\n",
       "      <th>4</th>\n",
       "      <td>Leia Organa</td>\n",
       "      <td>150.0</td>\n",
       "      <td>49.0</td>\n",
       "      <td>brown</td>\n",
       "      <td>light</td>\n",
       "      <td>brown</td>\n",
       "      <td>19</td>\n",
       "      <td>female</td>\n",
       "      <td>http://swapi.co/api/planets/2/</td>\n",
       "      <td>[http://swapi.co/api/films/6/, http://swapi.co...</td>\n",
       "      <td>[http://swapi.co/api/species/1/]</td>\n",
       "      <td>[http://swapi.co/api/vehicles/30/]</td>\n",
       "      <td>[]</td>\n",
       "      <td>2014-12-10T15:20:09.791000Z</td>\n",
       "      <td>2014-12-20T21:17:50.315000Z</td>\n",
       "      <td>http://swapi.co/api/people/5/</td>\n",
       "      <td>[Princess Leia Organa of Alderaan (also Senato...</td>\n",
       "    </tr>\n",
       "  </tbody>\n",
       "</table>\n",
       "</div>"
      ],
      "text/plain": [
       "             name  height   mass hair_color   skin_color eye_color birth_year  \\\n",
       "0  Luke Skywalker   172.0   77.0      blond         fair      blue         19   \n",
       "1           C-3PO   167.0   75.0        n/a         gold    yellow        112   \n",
       "2           R2-D2    96.0   32.0        n/a  white, blue       red         33   \n",
       "3     Darth Vader   202.0  136.0       none        white    yellow       41.9   \n",
       "4     Leia Organa   150.0   49.0      brown        light     brown         19   \n",
       "\n",
       "   gender                       homeworld  \\\n",
       "0    male  http://swapi.co/api/planets/1/   \n",
       "1     n/a  http://swapi.co/api/planets/1/   \n",
       "2     n/a  http://swapi.co/api/planets/8/   \n",
       "3    male  http://swapi.co/api/planets/1/   \n",
       "4  female  http://swapi.co/api/planets/2/   \n",
       "\n",
       "                                               films  \\\n",
       "0  [http://swapi.co/api/films/6/, http://swapi.co...   \n",
       "1  [http://swapi.co/api/films/5/, http://swapi.co...   \n",
       "2  [http://swapi.co/api/films/5/, http://swapi.co...   \n",
       "3  [http://swapi.co/api/films/6/, http://swapi.co...   \n",
       "4  [http://swapi.co/api/films/6/, http://swapi.co...   \n",
       "\n",
       "                            species  \\\n",
       "0  [http://swapi.co/api/species/1/]   \n",
       "1  [http://swapi.co/api/species/2/]   \n",
       "2  [http://swapi.co/api/species/2/]   \n",
       "3  [http://swapi.co/api/species/1/]   \n",
       "4  [http://swapi.co/api/species/1/]   \n",
       "\n",
       "                                            vehicles  \\\n",
       "0  [http://swapi.co/api/vehicles/14/, http://swap...   \n",
       "1                                                 []   \n",
       "2                                                 []   \n",
       "3                                                 []   \n",
       "4                 [http://swapi.co/api/vehicles/30/]   \n",
       "\n",
       "                                           starships  \\\n",
       "0  [http://swapi.co/api/starships/12/, http://swa...   \n",
       "1                                                 []   \n",
       "2                                                 []   \n",
       "3                [http://swapi.co/api/starships/13/]   \n",
       "4                                                 []   \n",
       "\n",
       "                       created                       edited  \\\n",
       "0  2014-12-09T13:50:51.644000Z  2014-12-20T21:17:56.891000Z   \n",
       "1  2014-12-10T15:10:51.357000Z  2014-12-20T21:17:50.309000Z   \n",
       "2  2014-12-10T15:11:50.376000Z  2014-12-20T21:17:50.311000Z   \n",
       "3  2014-12-10T15:18:20.704000Z  2014-12-20T21:17:50.313000Z   \n",
       "4  2014-12-10T15:20:09.791000Z  2014-12-20T21:17:50.315000Z   \n",
       "\n",
       "                             url  \\\n",
       "0  http://swapi.co/api/people/1/   \n",
       "1  http://swapi.co/api/people/2/   \n",
       "2  http://swapi.co/api/people/3/   \n",
       "3  http://swapi.co/api/people/4/   \n",
       "4  http://swapi.co/api/people/5/   \n",
       "\n",
       "                                                desc  \n",
       "0  [Luke Skywalker is a fictional character and t...  \n",
       "1  [C-3PO (/siːˈθriːpi.oʊ/) or See-Threepio is a ...  \n",
       "2  [R2-D2 is a fictional robot character in the S...  \n",
       "3  [Darth Vader, also known by his birth name Ana...  \n",
       "4  [Princess Leia Organa of Alderaan (also Senato...  "
      ]
     },
     "execution_count": 216,
     "metadata": {},
     "output_type": "execute_result"
    }
   ],
   "source": [
    "people_df.head()"
   ]
  },
  {
   "cell_type": "markdown",
   "id": "98585e70",
   "metadata": {},
   "source": [
    "Now since the we have columns that are you url/api endpoint we want to clean it up"
   ]
  },
  {
   "cell_type": "code",
   "execution_count": 217,
   "id": "de7c2e5f",
   "metadata": {},
   "outputs": [],
   "source": [
    "columns_to_drop = ['films', 'vehicles', 'starships', 'url', 'created', 'edited', 'species']\n",
    "\n",
    "people_df.drop(columns=columns_to_drop, inplace=True)\n"
   ]
  },
  {
   "cell_type": "code",
   "execution_count": 218,
   "id": "2c950b09",
   "metadata": {},
   "outputs": [
    {
     "data": {
      "text/html": [
       "<div>\n",
       "<style scoped>\n",
       "    .dataframe tbody tr th:only-of-type {\n",
       "        vertical-align: middle;\n",
       "    }\n",
       "\n",
       "    .dataframe tbody tr th {\n",
       "        vertical-align: top;\n",
       "    }\n",
       "\n",
       "    .dataframe thead th {\n",
       "        text-align: right;\n",
       "    }\n",
       "</style>\n",
       "<table border=\"1\" class=\"dataframe\">\n",
       "  <thead>\n",
       "    <tr style=\"text-align: right;\">\n",
       "      <th></th>\n",
       "      <th>name</th>\n",
       "      <th>height</th>\n",
       "      <th>mass</th>\n",
       "      <th>hair_color</th>\n",
       "      <th>skin_color</th>\n",
       "      <th>eye_color</th>\n",
       "      <th>birth_year</th>\n",
       "      <th>gender</th>\n",
       "      <th>homeworld</th>\n",
       "      <th>desc</th>\n",
       "    </tr>\n",
       "  </thead>\n",
       "  <tbody>\n",
       "    <tr>\n",
       "      <th>0</th>\n",
       "      <td>Luke Skywalker</td>\n",
       "      <td>172.0</td>\n",
       "      <td>77.0</td>\n",
       "      <td>blond</td>\n",
       "      <td>fair</td>\n",
       "      <td>blue</td>\n",
       "      <td>19</td>\n",
       "      <td>male</td>\n",
       "      <td>http://swapi.co/api/planets/1/</td>\n",
       "      <td>[Luke Skywalker is a fictional character and t...</td>\n",
       "    </tr>\n",
       "    <tr>\n",
       "      <th>1</th>\n",
       "      <td>C-3PO</td>\n",
       "      <td>167.0</td>\n",
       "      <td>75.0</td>\n",
       "      <td>n/a</td>\n",
       "      <td>gold</td>\n",
       "      <td>yellow</td>\n",
       "      <td>112</td>\n",
       "      <td>n/a</td>\n",
       "      <td>http://swapi.co/api/planets/1/</td>\n",
       "      <td>[C-3PO (/siːˈθriːpi.oʊ/) or See-Threepio is a ...</td>\n",
       "    </tr>\n",
       "    <tr>\n",
       "      <th>2</th>\n",
       "      <td>R2-D2</td>\n",
       "      <td>96.0</td>\n",
       "      <td>32.0</td>\n",
       "      <td>n/a</td>\n",
       "      <td>white, blue</td>\n",
       "      <td>red</td>\n",
       "      <td>33</td>\n",
       "      <td>n/a</td>\n",
       "      <td>http://swapi.co/api/planets/8/</td>\n",
       "      <td>[R2-D2 is a fictional robot character in the S...</td>\n",
       "    </tr>\n",
       "    <tr>\n",
       "      <th>3</th>\n",
       "      <td>Darth Vader</td>\n",
       "      <td>202.0</td>\n",
       "      <td>136.0</td>\n",
       "      <td>none</td>\n",
       "      <td>white</td>\n",
       "      <td>yellow</td>\n",
       "      <td>41.9</td>\n",
       "      <td>male</td>\n",
       "      <td>http://swapi.co/api/planets/1/</td>\n",
       "      <td>[Darth Vader, also known by his birth name Ana...</td>\n",
       "    </tr>\n",
       "    <tr>\n",
       "      <th>4</th>\n",
       "      <td>Leia Organa</td>\n",
       "      <td>150.0</td>\n",
       "      <td>49.0</td>\n",
       "      <td>brown</td>\n",
       "      <td>light</td>\n",
       "      <td>brown</td>\n",
       "      <td>19</td>\n",
       "      <td>female</td>\n",
       "      <td>http://swapi.co/api/planets/2/</td>\n",
       "      <td>[Princess Leia Organa of Alderaan (also Senato...</td>\n",
       "    </tr>\n",
       "  </tbody>\n",
       "</table>\n",
       "</div>"
      ],
      "text/plain": [
       "             name  height   mass hair_color   skin_color eye_color birth_year  \\\n",
       "0  Luke Skywalker   172.0   77.0      blond         fair      blue         19   \n",
       "1           C-3PO   167.0   75.0        n/a         gold    yellow        112   \n",
       "2           R2-D2    96.0   32.0        n/a  white, blue       red         33   \n",
       "3     Darth Vader   202.0  136.0       none        white    yellow       41.9   \n",
       "4     Leia Organa   150.0   49.0      brown        light     brown         19   \n",
       "\n",
       "   gender                       homeworld  \\\n",
       "0    male  http://swapi.co/api/planets/1/   \n",
       "1     n/a  http://swapi.co/api/planets/1/   \n",
       "2     n/a  http://swapi.co/api/planets/8/   \n",
       "3    male  http://swapi.co/api/planets/1/   \n",
       "4  female  http://swapi.co/api/planets/2/   \n",
       "\n",
       "                                                desc  \n",
       "0  [Luke Skywalker is a fictional character and t...  \n",
       "1  [C-3PO (/siːˈθriːpi.oʊ/) or See-Threepio is a ...  \n",
       "2  [R2-D2 is a fictional robot character in the S...  \n",
       "3  [Darth Vader, also known by his birth name Ana...  \n",
       "4  [Princess Leia Organa of Alderaan (also Senato...  "
      ]
     },
     "execution_count": 218,
     "metadata": {},
     "output_type": "execute_result"
    }
   ],
   "source": [
    "people_df.head()"
   ]
  },
  {
   "cell_type": "markdown",
   "id": "5f750ffd",
   "metadata": {},
   "source": [
    "Now the data looks a little better, but we are missing some values = n/a. "
   ]
  },
  {
   "cell_type": "code",
   "execution_count": 219,
   "id": "e5f20644",
   "metadata": {},
   "outputs": [
    {
     "data": {
      "text/plain": [
       "name           0\n",
       "height         6\n",
       "mass          29\n",
       "hair_color     0\n",
       "skin_color     0\n",
       "eye_color      0\n",
       "birth_year     0\n",
       "gender         0\n",
       "homeworld      0\n",
       "desc          54\n",
       "dtype: int64"
      ]
     },
     "execution_count": 219,
     "metadata": {},
     "output_type": "execute_result"
    }
   ],
   "source": [
    "people_df.isna().sum()"
   ]
  },
  {
   "cell_type": "markdown",
   "id": "8583c706",
   "metadata": {},
   "source": [
    "The biggest problem is n/a values in height and mass, which I will use imputation to give median values"
   ]
  },
  {
   "cell_type": "code",
   "execution_count": 220,
   "id": "0907774d",
   "metadata": {},
   "outputs": [],
   "source": [
    "people_df['height'] = people_df['height'].fillna(people_df['height'].median())\n",
    "people_df['mass'] = people_df['mass'].fillna(people_df['mass'].median())\n"
   ]
  },
  {
   "cell_type": "markdown",
   "id": "e0438b09",
   "metadata": {},
   "source": [
    "Now checking for na values it looks better"
   ]
  },
  {
   "cell_type": "code",
   "execution_count": 221,
   "id": "9f389a77",
   "metadata": {},
   "outputs": [
    {
     "data": {
      "text/plain": [
       "name           0\n",
       "height         0\n",
       "mass           0\n",
       "hair_color     0\n",
       "skin_color     0\n",
       "eye_color      0\n",
       "birth_year     0\n",
       "gender         0\n",
       "homeworld      0\n",
       "desc          54\n",
       "dtype: int64"
      ]
     },
     "execution_count": 221,
     "metadata": {},
     "output_type": "execute_result"
    }
   ],
   "source": [
    "people_df.isna().sum()"
   ]
  },
  {
   "cell_type": "code",
   "execution_count": 222,
   "id": "98457bd9",
   "metadata": {},
   "outputs": [
    {
     "data": {
      "image/png": "[encoded data removed]",
      "text/plain": [
       "<Figure size 640x480 with 1 Axes>"
      ]
     },
     "metadata": {},
     "output_type": "display_data"
    }
   ],
   "source": [
    "people_df['gender'].value_counts().plot(kind='bar', title='Gender Distribution')\n",
    "plt.show()"
   ]
  },
  {
   "cell_type": "code",
   "execution_count": 223,
   "id": "84620b98",
   "metadata": {},
   "outputs": [
    {
     "data": {
      "image/png": "[encoded data removed]",
      "text/plain": [
       "<Figure size 640x480 with 1 Axes>"
      ]
     },
     "metadata": {},
     "output_type": "display_data"
    }
   ],
   "source": [
    "# Detect outliers using boxplot\n",
    "people_df[['height', 'mass']].boxplot()\n",
    "plt.title('Boxplot for Height and Mass')\n",
    "plt.show()\n"
   ]
  },
  {
   "cell_type": "code",
   "execution_count": 224,
   "id": "88a724d6",
   "metadata": {},
   "outputs": [
    {
     "name": "stdout",
     "output_type": "stream",
     "text": [
      "gender\n",
      "female           167.000000\n",
      "hermaphrodite    175.000000\n",
      "male             179.274194\n",
      "n/a              120.000000\n",
      "none             190.000000\n",
      "Name: height, dtype: float64\n",
      "gender\n",
      "female            65.852632\n",
      "hermaphrodite     79.000000\n",
      "male              80.422581\n",
      "n/a               46.333333\n",
      "none             109.500000\n",
      "Name: mass, dtype: float64\n"
     ]
    }
   ],
   "source": [
    "# Calculate average height and mass for each gender\n",
    "avg_height_by_gender = people_df.groupby('gender')['height'].mean()\n",
    "avg_mass_by_gender = people_df.groupby('gender')['mass'].mean()\n",
    "\n",
    "print(avg_height_by_gender)\n",
    "print(avg_mass_by_gender)\n"
   ]
  },
  {
   "cell_type": "code",
   "execution_count": 225,
   "id": "f689b25a",
   "metadata": {},
   "outputs": [
    {
     "data": {
      "image/png": "[encoded data removed]",
      "text/plain": [
       "<Figure size 640x480 with 1 Axes>"
      ]
     },
     "metadata": {},
     "output_type": "display_data"
    }
   ],
   "source": [
    "# Visualize the distribution of height and mass\n",
    "people_df['height'].hist(bins=20, alpha=0.7, label='Height')\n",
    "people_df['mass'].hist(bins=20, alpha=0.7, label='Mass')\n",
    "plt.legend()\n",
    "plt.title('Distribution of Height and Mass')\n",
    "plt.show()\n"
   ]
  }
 ],
 "metadata": {
  "kernelspec": {
   "display_name": "base",
   "language": "python",
   "name": "python3"
  },
  "language_info": {
   "codemirror_mode": {
    "name": "ipython",
    "version": 3
   },
   "file_extension": ".py",
   "mimetype": "text/x-python",
   "name": "python",
   "nbconvert_exporter": "python",
   "pygments_lexer": "ipython3",
   "version": "3.12.7"
  }
 },
 "nbformat": 4,
 "nbformat_minor": 5
}
